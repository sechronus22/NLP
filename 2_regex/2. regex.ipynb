{
 "cells": [
  {
   "cell_type": "markdown",
   "metadata": {
    "id": "QGiOAfNZfJ_Q"
   },
   "source": [
    "# Regular Expression\n",
    "- [source](https://github.com/codebasics/nlp-tutorials/blob/main/1_regex/regex_for_information_extraction.ipynb)\n",
    "- [regex practice](https://regex101.com/)"
   ]
  },
  {
   "cell_type": "code",
   "execution_count": 2,
   "metadata": {
    "executionInfo": {
     "elapsed": 17,
     "status": "ok",
     "timestamp": 1745824586179,
     "user": {
      "displayName": "Worawit Jitpakdeebodin",
      "userId": "15034424775479659108"
     },
     "user_tz": -420
    },
    "id": "a29uNQz5fAx0"
   },
   "outputs": [],
   "source": [
    "import re"
   ]
  },
  {
   "cell_type": "markdown",
   "metadata": {
    "id": "5_8YfkKqhtIy"
   },
   "source": [
    "## (1) Regex in customer support\n"
   ]
  },
  {
   "cell_type": "markdown",
   "metadata": {
    "id": "V2zCz9Majz4L"
   },
   "source": [
    "### Retrieve phone number\n",
    "There are 2 phone patterns\n",
    "- xxxxxxxxxx : \"\\d{10}\"\n",
    "- (xxx)-xxx-xxxx : \" \\ (\\d{3}\\ )-\\d{3}-\\d{4}\""
   ]
  },
  {
   "cell_type": "code",
   "execution_count": 11,
   "metadata": {
    "executionInfo": {
     "elapsed": 1,
     "status": "ok",
     "timestamp": 1745813780471,
     "user": {
      "displayName": "Worawit Jitpakdeebodin",
      "userId": "15034424775479659108"
     },
     "user_tz": -420
    },
    "id": "dYW_JFTWgXH4"
   },
   "outputs": [],
   "source": [
    "chat1 = 'codebasics: you ask lot of questions 😠  1235678912 or 9998881234, abcA@xyz.com'\n",
    "chat2 = 'codebasics: here it is: (123)-567-8912, abc_82@xyz.in'\n",
    "chat3 = 'codebasics: yes, phone: 1235678912 email: abc@xyz.com'"
   ]
  },
  {
   "cell_type": "code",
   "execution_count": 9,
   "metadata": {
    "colab": {
     "base_uri": "https://localhost:8080/"
    },
    "executionInfo": {
     "elapsed": 6,
     "status": "ok",
     "timestamp": 1745812888345,
     "user": {
      "displayName": "Worawit Jitpakdeebodin",
      "userId": "15034424775479659108"
     },
     "user_tz": -420
    },
    "id": "UGNQ7N_mggAf",
    "outputId": "f2fcbb47-0fb2-4469-b52c-0614cb1862d5"
   },
   "outputs": [
    {
     "name": "stdout",
     "output_type": "stream",
     "text": [
      "['1235678912', '9998881234']\n",
      "['(123)-567-8912']\n",
      "['1235678912']\n"
     ]
    }
   ],
   "source": [
    "phone_pattern = \"\\d{10}|\\(\\d{3}\\)-\\d{3}-\\d{4}\"\n",
    "print(re.findall(phone_pattern, chat1))\n",
    "print(re.findall(phone_pattern, chat2))\n",
    "print(re.findall(phone_pattern, chat3))"
   ]
  },
  {
   "cell_type": "markdown",
   "metadata": {
    "id": "JmgNJ_78kQ0j"
   },
   "source": [
    "### Retrieve email\n",
    "- xxx@xxx.com : \"[a-z0-9A-Z_]*@[a-z0-9A-Z_]*\\.(?:com|in)\""
   ]
  },
  {
   "cell_type": "code",
   "execution_count": 19,
   "metadata": {
    "colab": {
     "base_uri": "https://localhost:8080/"
    },
    "executionInfo": {
     "elapsed": 6,
     "status": "ok",
     "timestamp": 1745814082706,
     "user": {
      "displayName": "Worawit Jitpakdeebodin",
      "userId": "15034424775479659108"
     },
     "user_tz": -420
    },
    "id": "LvlLdNa1gtlN",
    "outputId": "e1f5666c-1108-444e-f41b-499d7b031714"
   },
   "outputs": [
    {
     "name": "stdout",
     "output_type": "stream",
     "text": [
      "['abcA@xyz.com']\n",
      "['abc_82@xyz.in']\n",
      "['abc@xyz.com']\n"
     ]
    }
   ],
   "source": [
    "mail_pattern = \"[a-z0-9A-Z_]*@[a-z0-9A-Z_]*\\.(?:com|in)\"\n",
    "print(re.findall(mail_pattern, chat1))\n",
    "print(re.findall(mail_pattern, chat2))\n",
    "print(re.findall(mail_pattern, chat3))"
   ]
  },
  {
   "cell_type": "markdown",
   "metadata": {
    "id": "I7zI3RwzoURK"
   },
   "source": [
    "### retrieving order number\n",
    "- order xxx order_number : \"order[]\""
   ]
  },
  {
   "cell_type": "code",
   "execution_count": 20,
   "metadata": {
    "executionInfo": {
     "elapsed": 4,
     "status": "ok",
     "timestamp": 1745814294001,
     "user": {
      "displayName": "Worawit Jitpakdeebodin",
      "userId": "15034424775479659108"
     },
     "user_tz": -420
    },
    "id": "XB0AnVXjmaFq"
   },
   "outputs": [],
   "source": [
    "chat1='codebasics: Hello, I am having an issue with my order # 412889912'\n",
    "chat2='codebasics: I have a problem with my order number 412889912'\n",
    "chat3='codebasics: My order 412889912 is having an issue, I was charged 300$ when online it says 280$'"
   ]
  },
  {
   "cell_type": "code",
   "execution_count": 21,
   "metadata": {
    "colab": {
     "base_uri": "https://localhost:8080/"
    },
    "executionInfo": {
     "elapsed": 6,
     "status": "ok",
     "timestamp": 1745814456351,
     "user": {
      "displayName": "Worawit Jitpakdeebodin",
      "userId": "15034424775479659108"
     },
     "user_tz": -420
    },
    "id": "gk6988CspAya",
    "outputId": "4d4e5010-ae46-4689-c8c7-64a6425d9dc2"
   },
   "outputs": [
    {
     "name": "stdout",
     "output_type": "stream",
     "text": [
      "['412889912']\n",
      "['412889912']\n",
      "['412889912']\n"
     ]
    }
   ],
   "source": [
    "order_pattern = \"order[^\\d]*(\\d*)\"\n",
    "print(re.findall(order_pattern, chat1))\n",
    "print(re.findall(order_pattern, chat2))\n",
    "print(re.findall(order_pattern, chat3))"
   ]
  },
  {
   "cell_type": "markdown",
   "metadata": {
    "id": "jipO_eCep1vB"
   },
   "source": [
    "## (2) Regex for Information Extraction\n",
    "- **Note** : try web scrapping"
   ]
  },
  {
   "cell_type": "code",
   "execution_count": 1,
   "metadata": {
    "executionInfo": {
     "elapsed": 3,
     "status": "ok",
     "timestamp": 1745824582464,
     "user": {
      "displayName": "Worawit Jitpakdeebodin",
      "userId": "15034424775479659108"
     },
     "user_tz": -420
    },
    "id": "gXJtzQW1pobO"
   },
   "outputs": [],
   "source": [
    "info_1='''\n",
    "Born\tElon Reeve Musk\n",
    "June 28, 1971 (age 50)\n",
    "Pretoria, Transvaal, South Africa\n",
    "Citizenship\n",
    "South Africa (1971–present)\n",
    "Canada (1971–present)\n",
    "United States (2002–present)\n",
    "Education\tUniversity of Pennsylvania (BS, BA)\n",
    "Title\n",
    "Founder, CEO and Chief Engineer of SpaceX\n",
    "CEO and product architect of Tesla, Inc.\n",
    "Founder of The Boring Company and X.com (now part of PayPal)\n",
    "Co-founder of Neuralink, OpenAI, and Zip2\n",
    "Spouse(s)\n",
    "Justine Wilson\n",
    "​\n",
    "​(m. 2000; div. 2008)​\n",
    "Talulah Riley\n",
    "​\n",
    "​(m. 2010; div. 2012)​\n",
    "​\n",
    "​(m. 2013; div. 2016)\n",
    "'''"
   ]
  },
  {
   "cell_type": "code",
   "execution_count": 4,
   "metadata": {
    "colab": {
     "base_uri": "https://localhost:8080/"
    },
    "executionInfo": {
     "elapsed": 10,
     "status": "ok",
     "timestamp": 1745824642830,
     "user": {
      "displayName": "Worawit Jitpakdeebodin",
      "userId": "15034424775479659108"
     },
     "user_tz": -420
    },
    "id": "AZQ3WWd7NaU-",
    "outputId": "6bac2181-096f-4c42-b5fc-f99cc3ced843"
   },
   "outputs": [
    {
     "data": {
      "text/plain": [
       "{'age': 50,\n",
       " 'name': 'Elon Reeve Musk',\n",
       " 'birth_date': 'June 28, 1971',\n",
       " 'birth_place': 'Pretoria, Transvaal, South Africa'}"
      ]
     },
     "execution_count": 4,
     "metadata": {},
     "output_type": "execute_result"
    }
   ],
   "source": [
    "def celeb_info(text):\n",
    "  age_pattern = 'age (\\d+)'\n",
    "  born_pattern = 'Born(.*)\\n'\n",
    "  birth_date_pattern = 'Born.*\\n(.*) \\('\n",
    "  birth_place_pattern = 'age.*\\n(.*)'\n",
    "\n",
    "  return {\n",
    "  'age' : int(re.findall(age_pattern, text)[0]),\n",
    "  'name' : re.findall(born_pattern, text)[0].strip(),\n",
    "  'birth_date' : re.findall(birth_date_pattern, text)[0],\n",
    "  'birth_place' : re.findall(birth_place_pattern, text)[0]\n",
    "  }\n",
    "\n",
    "celeb_info(info_1)"
   ]
  },
  {
   "cell_type": "code",
   "execution_count": 5,
   "metadata": {
    "executionInfo": {
     "elapsed": 2,
     "status": "ok",
     "timestamp": 1745824728857,
     "user": {
      "displayName": "Worawit Jitpakdeebodin",
      "userId": "15034424775479659108"
     },
     "user_tz": -420
    },
    "id": "6BgtxBKqQvcR"
   },
   "outputs": [],
   "source": [
    "info_2 = '''\n",
    "Born\tMukesh Dhirubhai Ambani\n",
    "19 April 1957 (age 64)\n",
    "Aden, Colony of Aden\n",
    "(present-day Yemen)[1][2]\n",
    "Nationality\tIndian\n",
    "Alma mater\n",
    "St. Xavier's College, Mumbai\n",
    "Institute of Chemical Technology (B.E.)\n",
    "Stanford University (drop-out)\n",
    "Occupation\tChairman and MD, Reliance Industries\n",
    "Spouse(s)\tNita Ambani ​(m. 1985)​[3]\n",
    "Children\t3\n",
    "Parent(s)\n",
    "Dhirubhai Ambani (father)\n",
    "Kokilaben Ambani (mother)\n",
    "Relatives\tAnil Ambani (brother)\n",
    "Tina Ambani (sister-in-law)\n",
    "'''"
   ]
  },
  {
   "cell_type": "code",
   "execution_count": 6,
   "metadata": {
    "colab": {
     "base_uri": "https://localhost:8080/"
    },
    "executionInfo": {
     "elapsed": 6,
     "status": "ok",
     "timestamp": 1745824735563,
     "user": {
      "displayName": "Worawit Jitpakdeebodin",
      "userId": "15034424775479659108"
     },
     "user_tz": -420
    },
    "id": "3dfqAD4oQ0YG",
    "outputId": "c0cafe1a-04a9-4e97-b2cd-c602f13bf280"
   },
   "outputs": [
    {
     "data": {
      "text/plain": [
       "{'age': 64,\n",
       " 'name': 'Mukesh Dhirubhai Ambani',\n",
       " 'birth_date': '19 April 1957',\n",
       " 'birth_place': 'Aden, Colony of Aden'}"
      ]
     },
     "execution_count": 6,
     "metadata": {},
     "output_type": "execute_result"
    }
   ],
   "source": [
    "celeb_info(info_2)"
   ]
  }
 ],
 "metadata": {
  "colab": {
   "authorship_tag": "ABX9TyPLrc6X2DaAJeWjIAUU17DZ",
   "provenance": []
  },
  "kernelspec": {
   "display_name": "Python 3",
   "name": "python3"
  },
  "language_info": {
   "name": "python"
  }
 },
 "nbformat": 4,
 "nbformat_minor": 0
}
